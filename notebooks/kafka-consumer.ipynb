{
 "cells": [
  {
   "cell_type": "code",
   "execution_count": 1,
   "id": "38712749-3d49-4f91-afa9-fcda11ff7964",
   "metadata": {},
   "outputs": [],
   "source": [
    "from kafka import KafkaConsumer\n",
    "import json"
   ]
  },
  {
   "cell_type": "code",
   "execution_count": 2,
   "id": "6200cb97-ff93-4215-92a3-6234a2a6801a",
   "metadata": {},
   "outputs": [],
   "source": [
    "KAFKA_HOST = \"kafka\"\n",
    "KAFKA_PORT = 9092\n",
    "KAFKA_VERSION = (0, 10, 2)\n",
    "BOOTSTRAP_SERVER = f\"{KAFKA_HOST}:{KAFKA_PORT}\""
   ]
  },
  {
   "cell_type": "code",
   "execution_count": 5,
   "id": "f48bca6f-77ed-4716-9703-2cf61dc52318",
   "metadata": {},
   "outputs": [],
   "source": [
    "consumer = KafkaConsumer(\n",
    " bootstrap_servers=[BOOTSTRAP_SERVER],\n",
    " security_protocol=\"PLAINTEXT\",\n",
    " value_deserializer = lambda v: json.loads(v.decode('ascii')),\n",
    " auto_offset_reset='earliest'\n",
    ")"
   ]
  },
  {
   "cell_type": "code",
   "execution_count": null,
   "id": "197a7291-0de8-4df0-9d0b-99ba8ac2c3e9",
   "metadata": {},
   "outputs": [
    {
     "name": "stdout",
     "output_type": "stream",
     "text": [
      "0: 1: v={'name': 'Carlo Bianchi', 'hotel': 'Average Hotel', 'dateFrom': '12-07-2021', 'dateTo': '23-07-2021', 'details': 'Room next to the highway 🚗🚗🚗🚗'}\n",
      "0: 2: v={'name': 'Giuseppe Rossi', 'hotel': 'Luxury Hotel', 'dateFrom': '25-06-2021', 'dateTo': '07-07-2021', 'details': 'I want the best room 😀😀😀😀😀!!!!'}\n",
      "0: 3: v={'name': 'Carlo Bianchi', 'hotel': 'Average Hotel', 'dateFrom': '12-07-2021', 'dateTo': '23-07-2021', 'details': 'Room next to the highway 🚗🚗🚗🚗'}\n"
     ]
    }
   ],
   "source": [
    "consumer.subscribe(topics='hotel-booking-request')\n",
    "for message in consumer:\n",
    "    print(f\"{message.partition}: {message.offset}: v={message.value}\")\n",
    "    "
   ]
  },
  {
   "cell_type": "code",
   "execution_count": null,
   "id": "ab9a7cdc-5c21-4900-b09f-70825ec93855",
   "metadata": {},
   "outputs": [],
   "source": []
  }
 ],
 "metadata": {
  "kernelspec": {
   "display_name": "Python 3 (ipykernel)",
   "language": "python",
   "name": "python3"
  },
  "language_info": {
   "codemirror_mode": {
    "name": "ipython",
    "version": 3
   },
   "file_extension": ".py",
   "mimetype": "text/x-python",
   "name": "python",
   "nbconvert_exporter": "python",
   "pygments_lexer": "ipython3",
   "version": "3.9.7"
  }
 },
 "nbformat": 4,
 "nbformat_minor": 5
}

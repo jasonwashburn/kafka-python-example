{
 "cells": [
  {
   "cell_type": "markdown",
   "id": "a149b480-0165-4eb5-8c6f-12518ede2451",
   "metadata": {},
   "source": [
    "# Kafka Consumer\n",
    "### Basic Setup\n",
    "#### Imports"
   ]
  },
  {
   "cell_type": "code",
   "execution_count": null,
   "id": "38712749-3d49-4f91-afa9-fcda11ff7964",
   "metadata": {},
   "outputs": [],
   "source": [
    "import json\n",
    "from rich import print, print_json\n",
    "from kafka import KafkaConsumer"
   ]
  },
  {
   "cell_type": "markdown",
   "id": "075ebfd2-4aaf-4fb3-a4d5-72fa8c04d870",
   "metadata": {},
   "source": [
    "#### Config"
   ]
  },
  {
   "cell_type": "code",
   "execution_count": null,
   "id": "6200cb97-ff93-4215-92a3-6234a2a6801a",
   "metadata": {},
   "outputs": [],
   "source": [
    "KAFKA_HOST = \"kafka\"\n",
    "KAFKA_PORT = 9092\n",
    "KAFKA_VERSION = (0, 10, 2)\n",
    "BOOTSTRAP_SERVER = f\"{KAFKA_HOST}:{KAFKA_PORT}\""
   ]
  },
  {
   "cell_type": "markdown",
   "id": "ae14bded-2596-4259-af86-8b6f2a0c8607",
   "metadata": {},
   "source": [
    "### Creating a Consumer\n",
    "It's time now to create a `KafkaConsumer`. "
   ]
  },
  {
   "cell_type": "code",
   "execution_count": null,
   "id": "f48bca6f-77ed-4716-9703-2cf61dc52318",
   "metadata": {},
   "outputs": [],
   "source": [
    "consumer = KafkaConsumer(\n",
    "    bootstrap_servers=[BOOTSTRAP_SERVER],\n",
    "    security_protocol=\"PLAINTEXT\",\n",
    "    value_deserializer=lambda v: json.loads(v.decode(\"ascii\")),\n",
    "    auto_offset_reset=\"earliest\",\n",
    ")"
   ]
  },
  {
   "cell_type": "markdown",
   "id": "7f62bd0a-27ea-42e9-a136-539c85165688",
   "metadata": {},
   "source": [
    "The consumer is ready, pointing to our Kafka service and using a deserialization function that will take the bytes from the message value and transform them into a json structure performing the opposite transformation to the one made during the production phase.  \n",
    "\n",
    "By default a consumer starts reading from a Kafka topic from the point in time it attaches to the cluster. Previous messages are not read. We are changing this behaviour with the `auto_offset_reset='earliest'` parameter, allowing us to read from the beginning of the topic. We are now ready to subscribe to the `metar-json` topic and start reading from it with the following code"
   ]
  },
  {
   "cell_type": "code",
   "execution_count": null,
   "id": "197a7291-0de8-4df0-9d0b-99ba8ac2c3e9",
   "metadata": {
    "tags": []
   },
   "outputs": [],
   "source": [
    "consumer.subscribe(topics=\"metar-json\")\n",
    "for message in consumer:\n",
    "    print(f\"Partition: {message.partition} Offset: {message.offset}\")\n",
    "    print(\"Value:\")\n",
    "    print_json(data=message.value)"
   ]
  },
  {
   "cell_type": "markdown",
   "id": "38c101e1-9ca5-4354-868a-bc7a2f7c3067",
   "metadata": {},
   "source": [
    "The consumer thread never ends: this is justified by the fact that we always want to consume messages as soon as they're available in the Kafka topic, and there is no \"end time\" in the streaming world. We should also see the first message appearing on our consumer console."
   ]
  },
  {
   "cell_type": "markdown",
   "id": "eead676a-5c38-4fe7-89e8-d6404b6e2225",
   "metadata": {},
   "source": [
    "Now if you switch back to the `kafka-producer` notebook, we can produce a new metar message for `Chicago/O'Hare Intl` by executing the final cell in that notebook."
   ]
  },
  {
   "cell_type": "markdown",
   "id": "b5bfe35d-2993-4156-833d-30b4e642e97f",
   "metadata": {},
   "source": [
    "After executing it, we should immediately receive the message shown below, which was sent from the producer, in the output of the `consumer.subscribe()` cell above.\n",
    "\n",
    "```\n",
    "Partition: 0 Offset: 1\n",
    "Value:\n",
    "{\n",
    "  \"type\": \"Feature\",\n",
    "  \"id\": \"734075940\",\n",
    "  \"properties\": {\n",
    "    \"data\": \"METAR\",\n",
    "    \"id\": \"KORD\",\n",
    "    \"site\": \"Chicago/O'Hare Intl\",\n",
    "    \"prior\": 0,\n",
    "    \"obsTime\": \"2021-12-24T11:35:00Z\",\n",
    "    \"temp\": 3.9,\n",
    "    \"dewp\": 2.2,\n",
    "    \"wspd\": 6,\n",
    "    \"wdir\": 160,\n",
    "    \"ceil\": 2,\n",
    "    \"cover\": \"OVC\",\n",
    "    \"cldCvg1\": \"OVC\",\n",
    "    \"cldBas1\": \"2\",\n",
    "    \"visib\": 1.25,\n",
    "    \"fltcat\": \"LIFR\",\n",
    "    \"altim\": 1005.8,\n",
    "    \"wx\": \"BR\",\n",
    "    \"rawOb\": \"KORD 241135Z 16006KT 1 1/4SM R10L/5000VP6000FT BR OVC002 04/02 A2970 RMK AO2 T00390022\"\n",
    "  },\n",
    "  \"geometry\": {\n",
    "    \"type\": \"Point\",\n",
    "    \"coordinates\": [\n",
    "      -87.932,\n",
    "      41.96\n",
    "    ]\n",
    "  }\n",
    "}\n",
    "```"
   ]
  },
  {
   "cell_type": "markdown",
   "id": "ccd98e9c-5af1-49f7-bf23-81e8bdccd29a",
   "metadata": {},
   "source": [
    "If you're wondering what the `Partition: 0 Offset: 1` prefix is, check out the consumer code. They are the topics **partition** and **offset** meaning that we are reading the second message (offset starts with 0) from partition 0 of the topic."
   ]
  },
  {
   "cell_type": "code",
   "execution_count": null,
   "id": "76edc25d-465f-4733-a055-22b45830ebe6",
   "metadata": {},
   "outputs": [],
   "source": []
  }
 ],
 "metadata": {
  "kernelspec": {
   "display_name": "Python 3 (ipykernel)",
   "language": "python",
   "name": "python3"
  },
  "language_info": {
   "codemirror_mode": {
    "name": "ipython",
    "version": 3
   },
   "file_extension": ".py",
   "mimetype": "text/x-python",
   "name": "python",
   "nbconvert_exporter": "python",
   "pygments_lexer": "ipython3",
   "version": "3.9.7"
  }
 },
 "nbformat": 4,
 "nbformat_minor": 5
}

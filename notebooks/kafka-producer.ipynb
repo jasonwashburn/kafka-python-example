{
 "cells": [
  {
   "cell_type": "markdown",
   "metadata": {},
   "source": [
    "# Kafka Producer\n",
    "### Basic Setup\n",
    "#### Imports"
   ]
  },
  {
   "cell_type": "code",
   "execution_count": null,
   "metadata": {
    "pycharm": {
     "name": "#%%\n"
    },
    "tags": []
   },
   "outputs": [],
   "source": [
    "import json\n",
    "\n",
    "from kafka import KafkaProducer"
   ]
  },
  {
   "cell_type": "markdown",
   "metadata": {},
   "source": [
    "#### Config"
   ]
  },
  {
   "cell_type": "code",
   "execution_count": null,
   "metadata": {},
   "outputs": [],
   "source": [
    "KAFKA_HOST = \"kafka\"\n",
    "KAFKA_PORT = 9092\n",
    "KAFKA_VERSION = (0, 10, 2)\n",
    "BOOTSTRAP_SERVER = f\"{KAFKA_HOST}:{KAFKA_PORT}\""
   ]
  },
  {
   "cell_type": "markdown",
   "metadata": {},
   "source": [
    "### Creating a Producer\n",
    "First we'll create a producer which points to our docker-compose Kafka service via the `bootstrap_servers` parameter using `PLAINTEXT` authentication. The `value_serializer` transforms our json message value into a bytes array, the format requested and understood by Kafka."
   ]
  },
  {
   "cell_type": "code",
   "execution_count": null,
   "metadata": {},
   "outputs": [],
   "source": [
    "producer = KafkaProducer(\n",
    "    bootstrap_servers=[BOOTSTRAP_SERVER],\n",
    "    security_protocol=\"PLAINTEXT\",\n",
    "    api_version=KAFKA_VERSION,\n",
    "    value_serializer=lambda v: json.dumps(v).encode(\"ascii\"),\n",
    ")"
   ]
  },
  {
   "cell_type": "markdown",
   "metadata": {},
   "source": [
    "Now let's produce our first message, a METAR for Omaha Eppley Airfield. More about METARS [here](https://en.wikipedia.org/wiki/METAR)."
   ]
  },
  {
   "cell_type": "code",
   "execution_count": null,
   "metadata": {},
   "outputs": [],
   "source": [
    "producer.send(\n",
    "    \"metar-json\",\n",
    "    value={\n",
    "        \"type\": \"Feature\",\n",
    "        \"id\": \"734062840\",\n",
    "        \"properties\": {\n",
    "            \"data\": \"METAR\",\n",
    "            \"id\": \"KOMA\",\n",
    "            \"site\": \"Omaha/Eppley Fld\",\n",
    "            \"prior\": 2,\n",
    "            \"obsTime\": \"2021-12-24T11:10:00Z\",\n",
    "            \"temp\": 2.2,\n",
    "            \"dewp\": 2.2,\n",
    "            \"wspd\": 8,\n",
    "            \"wdir\": 160,\n",
    "            \"ceil\": 2,\n",
    "            \"cover\": \"OVX\",\n",
    "            \"cldCvg1\": \"OVX\",\n",
    "            \"cldBas1\": \"0\",\n",
    "            \"visib\": 0.13,\n",
    "            \"fltcat\": \"LIFR\",\n",
    "            \"altim\": 996.0,\n",
    "            \"wx\": \"FG\",\n",
    "            \"rawOb\": \"KOMA 241110Z 16008KT 1/8SM R14R/1600V2400FT FG VV002 02/02 A2941 RMK AO2 T00220022\",\n",
    "        },\n",
    "        \"geometry\": {\"type\": \"Point\", \"coordinates\": [-95.902, 41.312]},\n",
    "    },\n",
    ")\n",
    "producer.flush()"
   ]
  },
  {
   "cell_type": "markdown",
   "metadata": {},
   "source": [
    "The above code adds the METAR for Omaha Eppley Airfield to a buffer of pending records, which will be sent to a topic named `metar-json`. With the `flush()` method we make sure the record is actually sent to Kafka.  \n",
    "\n",
    "Our first message has gone to Kafka. How can we be sure? Well... let's create a Consumer.  \n",
    "  \n",
    "Open up the [kafka-consumer.ipynb](kafka-consumer.ipynb) notebook in another Jupyter tab, then drag the tab to the side of the window to split Jupyter so you can see both notebooks side by side."
   ]
  },
  {
   "cell_type": "code",
   "execution_count": null,
   "metadata": {},
   "outputs": [],
   "source": [
    "producer.send(\n",
    "    \"metar-json\",\n",
    "    value={\n",
    "        \"type\": \"Feature\",\n",
    "        \"id\": \"734075940\",\n",
    "        \"properties\": {\n",
    "            \"data\": \"METAR\",\n",
    "            \"id\": \"KORD\",\n",
    "            \"site\": \"Chicago/O'Hare Intl\",\n",
    "            \"prior\": 0,\n",
    "            \"obsTime\": \"2021-12-24T11:35:00Z\",\n",
    "            \"temp\": 3.9,\n",
    "            \"dewp\": 2.2,\n",
    "            \"wspd\": 6,\n",
    "            \"wdir\": 160,\n",
    "            \"ceil\": 2,\n",
    "            \"cover\": \"OVC\",\n",
    "            \"cldCvg1\": \"OVC\",\n",
    "            \"cldBas1\": \"2\",\n",
    "            \"visib\": 1.25,\n",
    "            \"fltcat\": \"LIFR\",\n",
    "            \"altim\": 1005.8,\n",
    "            \"wx\": \"BR\",\n",
    "            \"rawOb\": \"KORD 241135Z 16006KT 1 1/4SM R10L/5000VP6000FT BR OVC002 04/02 A2970 RMK AO2 T00390022\",\n",
    "        },\n",
    "        \"geometry\": {\"type\": \"Point\", \"coordinates\": [-87.932, 41.960]},\n",
    "    },\n",
    ")\n",
    "producer.flush()"
   ]
  },
  {
   "cell_type": "code",
   "execution_count": null,
   "metadata": {},
   "outputs": [],
   "source": [
    "producer.send(\n",
    "    \"metar-json\",\n",
    "    value={\n",
    "        \"type\": \"Blah\",\n",
    "        \"id\": \"734075940\",\n",
    "        \"properties\": {\n",
    "            \"data\": \"METAR\",\n",
    "            \"id\": \"KORD\",\n",
    "            \"site\": \"Chicago/O'Hare Intl\",\n",
    "            \"prior\": 0,\n",
    "            \"obsTime\": \"2021-12-24T11:35:00Z\",\n",
    "            \"temp\": 3.9,\n",
    "            \"dewp\": 2.2,\n",
    "            \"wspd\": 6,\n",
    "            \"wdir\": 160,\n",
    "            \"ceil\": 2,\n",
    "            \"cover\": \"OVC\",\n",
    "            \"cldCvg1\": \"OVC\",\n",
    "            \"cldBas1\": \"2\",\n",
    "            \"visib\": 1.25,\n",
    "            \"fltcat\": \"LIFR\",\n",
    "            \"altim\": 1005.8,\n",
    "            \"wx\": \"BR\",\n",
    "            \"rawOb\": \"KORD 241135Z 16006KT 1 1/4SM R10L/5000VP6000FT BR OVC002 04/02 A2970 RMK AO2 T00390022\",\n",
    "        },\n",
    "        \"geometry\": {\"type\": \"Point\", \"coordinates\": [-87.932, 41.960]},\n",
    "    },\n",
    ")\n",
    "producer.flush()"
   ]
  },
  {
   "cell_type": "code",
   "execution_count": null,
   "metadata": {},
   "outputs": [],
   "source": []
  }
 ],
 "metadata": {
  "kernelspec": {
   "display_name": "Python 3 (ipykernel)",
   "language": "python",
   "name": "python3"
  },
  "language_info": {
   "codemirror_mode": {
    "name": "ipython",
    "version": 3
   },
   "file_extension": ".py",
   "mimetype": "text/x-python",
   "name": "python",
   "nbconvert_exporter": "python",
   "pygments_lexer": "ipython3",
   "version": "3.9.7"
  }
 },
 "nbformat": 4,
 "nbformat_minor": 4
}
